


# Dependencies and Setup
import pandas as pd
from pathlib import Path

# File to Load (Remember to Change These)
school_data_to_load = Path("Resources/schools_complete.csv")
student_data_to_load = Path("Resources/students_complete.csv")

# Read School and Student Data File and store into Pandas DataFrames
school_data = pd.read_csv(school_data_to_load)
student_data = pd.read_csv(student_data_to_load)

# Combine the data into a single dataset.
school_data_complete = pd.merge(student_data, school_data, how="left", on=["school_name", "school_name"])
school_data_complete.head()






# Calculate the total number of unique schools
school_count = school_data['school_name'].nunique()
school_count
print("Total number of unique schools:", school_count)



# Calculate the total number of students
student_count = school_data['size'].sum()
student_count
print("Total number of students:", student_count)


# Calculate the total budget
total_budget = school_data['budget'].sum()
total_budget
print("Total budget:", total_budget)


# Calculate the average (mean) math score
average_math_score = student_data['math_score'].mean()
average_math_score
print("Average math score:", average_math_score)


# Calculate the average (mean) reading score
average_reading_score = student_data['reading_score'].mean()
average_reading_score
print("Average reading score:", average_reading_score)


# Use the following to calculate the percentage of students who passed math (math scores greather than or equal to 70)
passing_math_count = school_data_complete[(school_data_complete["math_score"] >= 70)].count()["student_name"]
passing_math_percentage = passing_math_count / float(student_count) * 100
passing_math_percentage
print("Percentage of students who passed math: {:.2f}%".format(passing_math_percentage))


# Calculate the percentage of students who passed reading (hint: look at how the math percentage was calculated)
passing_reading_count = school_data_complete[(school_data_complete["reading_score"] >= 70)].count()["student_name"]
passing_reading_percentage = passing_reading_count / float(student_count) * 100
passing_reading_percentage
print("Percentage of students who passed reading: {:.2f}%".format(passing_reading_percentage))


# Use the following to calculate the percentage of students that passed math and reading
passing_math_reading_count = school_data_complete[
    (school_data_complete["math_score"] >= 70) & (school_data_complete["reading_score"] >= 70)
].count()["student_name"]
overall_passing_rate = passing_math_reading_count /  float(student_count) * 100
overall_passing_rate
print("Percentage of students that passed math and reading: {:.2f}%".format(overall_passing_rate))


# Create a high-level snapshot of the district's key metrics in a DataFrame
district_summary = {
                    "Total Schools": pd.Series([school_count]),
                    "Total Students": pd.Series([student_count]),
                    "Total Budget": pd.Series([total_budget]),
                    "Average Math Score": pd.Series([average_math_score]),
                    "Average Reading Score": pd.Series([average_reading_score]),
                    "% Passing Math": pd.Series([passing_math_percentage]),
                    "% Passing Reading": pd.Series([passing_reading_percentage]),
                    "% Overall Passing": pd.Series([overall_passing_rate]),
}

# Format data in district_summary dictionary
district_summary["Total Students"] = district_summary["Total Students"].map("{:,}".format)
district_summary["Total Budget"] = district_summary["Total Budget"].map("${:,.2f}".format)

# Create DataFrame from previously formatted dictionary
district_summary_df = pd.DataFrame(district_summary)

# Apply border to DataFrame
district_summary_boarders_df = district_summary_df.style.set_table_styles(
    [{'selector': 'th', 'props': [('border', '1px solid black')]},
     {'selector': 'td', 'props': [('border', '1px solid black')]}]
)

district_summary_boarders_df

#Print DataFrame
#print(district_summary_df)
#https://pandas.pydata.org/docs/reference/api/pandas.io.formats.style.Styler.set_table_styles.html
#https://pandas.pydata.org/pandas-docs/version/1.3.1/user_guide/style.html





# Use the code provided to select the type per school from school_data
school_types = school_data.set_index(["school_name"])["type"]
school_types


# Calculate the total student count per school from school_data
per_school_counts = school_data.groupby("school_name")["size"].sum()
per_school_counts


# Calculate the total school budget and per capita spending per school from school_data
per_school_budget = school_data.groupby("school_name")["budget"].sum()
print("Per School Budget", per_school_budget)

per_school_capita = per_school_budget / school_data.groupby("school_name")["size"].mean()
print("Per School Capita", per_school_capita)


# Calculate the average test scores per school from school_data_complete
per_school_math = school_data_complete.groupby('school_name')['math_score'].mean()
print("Average Math Score Per School", per_school_math)

per_school_reading = school_data_complete.groupby('school_name')['reading_score'].mean()
print("Average Reading Score Per School", per_school_reading)


# Calculate the number of students per school with math scores of 70 or higher from school_data_complete
students_passing_math = school_data_complete[school_data_complete["math_score"] >= 70].groupby("school_name")["student_name"].count()
school_students_passing_math = students_passing_math.round().astype(int)
school_students_passing_math


# Calculate the number of students per school with reading scores of 70 or higher from school_data_complete
students_passing_reading = school_data_complete[school_data_complete["reading_score"] >= 70].groupby("school_name")["student_name"].count()
school_students_passing_reading = students_passing_reading.round().astype(int)
school_students_passing_reading



# Use the provided code to calculate the number of students per school that passed both math and reading with scores of 70 or higher
students_passing_math_and_reading = school_data_complete[
    (school_data_complete["reading_score"] >= 70) & (school_data_complete["math_score"] >= 70)
]
school_students_passing_math_and_reading = students_passing_math_and_reading.groupby(["school_name"]).size()
school_students_passing_math_and_reading


# Use the provided code to calculate the passing rates
per_school_passing_math = school_students_passing_math / per_school_counts * 100
print("Math Pass Rate (per School): ", per_school_passing_math)

per_school_passing_reading = school_students_passing_reading / per_school_counts * 100
print("Reading Pass Rate (per School): ", per_school_passing_reading)

overall_pass_rate = school_students_passing_math_and_reading / per_school_counts * 100
print("Overall Pass Rate (per School): ", overall_pass_rate)



# Create a DataFrame called `per_school_summary` with columns for the calculations above.
per_school_summary = {
    "School type": school_types,
    "Total students": per_school_counts,
    "Total school budget": per_school_budget,
    "Per student budget": per_school_capita,
    "Average math score": per_school_math,
    "Average reading score": per_school_reading,
    "% Passing Math": per_school_passing_math,
    "% Passing Reading": per_school_passing_reading,
    "% Overall Passing": overall_pass_rate,
}

# Display the DataFrame
per_school_summary_df = pd.DataFrame(per_school_summary)

# Formatting
per_school_summary_df["Total school budget"] = per_school_summary_df["Total school budget"].map("${:,.2f}".format)
per_school_summary_df["Per student budget"] = per_school_summary_df["Per student budget"].map("${:,.2f}".format)

# Apply border to DataFrame
per_school_summary_boarders_df = per_school_summary_df.style.set_table_styles(
     [{'selector': 'th', 'props': [('border', '1px solid black')]},
      {'selector': 'td', 'props': [('border', '1px solid black')]}]
 )

# Display the DataFrame with styles
per_school_summary_boarders_df

#print(per_school_summary_df)








# Sort the schools by `% Overall Passing` in descending order and display the top 5 rows.
top_schools = per_school_summary_df.sort_values(by='% Overall Passing', ascending=False)
top_schools.head(5)






# Sort the schools by `% Overall Passing` in ascending order and display the top 5 rows.
bottom_schools = per_school_summary_df.sort_values(by='% Overall Passing')
bottom_schools.head(5)






# Use the code provided to separate the data by grade
ninth_graders = school_data_complete[(school_data_complete["grade"] == "9th")]
tenth_graders = school_data_complete[(school_data_complete["grade"] == "10th")]
eleventh_graders = school_data_complete[(school_data_complete["grade"] == "11th")]
twelfth_graders = school_data_complete[(school_data_complete["grade"] == "12th")]

# Group by `school_name` and take the mean of the `math_score` column for each.
ninth_grader_math_scores = ninth_graders.groupby('school_name')['math_score'].mean()
tenth_grader_math_scores = tenth_graders.groupby('school_name')['math_score'].mean()
eleventh_grader_math_scores = eleventh_graders.groupby('school_name')['math_score'].mean()
twelfth_grader_math_scores = twelfth_graders.groupby('school_name')['math_score'].mean()

# Combine each of the scores above into single DataFrame called `math_scores_by_grade`
math_scores_by_grade = pd.DataFrame({
    "9th": ninth_grader_math_scores,
    "10th": tenth_grader_math_scores,
    "11th": eleventh_grader_math_scores,
    "12th": twelfth_grader_math_scores
})    

# Minor data wrangling
math_scores_by_grade = math_scores_by_grade[["9th", "10th", "11th", "12th"]]
math_scores_by_grade.index.name = None

# Display the DataFrame
math_scores_by_grade






# Use the code provided to separate the data by grade
ninth_graders = school_data_complete[(school_data_complete["grade"] == "9th")]
tenth_graders = school_data_complete[(school_data_complete["grade"] == "10th")]
eleventh_graders = school_data_complete[(school_data_complete["grade"] == "11th")]
twelfth_graders = school_data_complete[(school_data_complete["grade"] == "12th")]

# Group by `school_name` and take the mean of the the `reading_score` column for each.
ninth_grader_reading_scores = ninth_graders.groupby('school_name')['reading_score'].mean()
tenth_grader_reading_scores = tenth_graders.groupby('school_name')['reading_score'].mean()
eleventh_grader_reading_scores = eleventh_graders.groupby('school_name')['reading_score'].mean()
twelfth_grader_reading_scores = twelfth_graders.groupby('school_name')['reading_score'].mean()

# Combine each of the scores above into single DataFrame called `reading_scores_by_grade`
reading_scores_by_grade = pd.DataFrame({
    "9th": ninth_grader_reading_scores,
    "10th": tenth_grader_reading_scores,
    "11th": eleventh_grader_reading_scores,
    "12th": twelfth_grader_reading_scores
}) 

# Minor data wrangling
reading_scores_by_grade = reading_scores_by_grade[["9th", "10th", "11th", "12th"]]
reading_scores_by_grade.index.name = None

# Display the DataFrame
reading_scores_by_grade






# Establish the bins
spending_bins = [0, 585, 630, 645, 680]
labels = ["<$585", "$585-630", "$630-645", "$645-680"]



# Create a copy of the school summary since it has the "Per Student Budget"
school_spending_df = pd.DataFrame(per_school_summary).copy()


# Use `pd.cut` to categorize spending based on the bins.
school_spending_df["Spending Ranges (Per Student)"] = pd.cut(school_spending_df["Per student budget"], bins=spending_bins, labels=labels, include_lowest=True)



#  Calculate averages for the desired columns.
spending_math_scores = school_spending_df.groupby(["Spending Ranges (Per Student)"], observed=True)["Average math score"].mean()
spending_reading_scores = school_spending_df.groupby(["Spending Ranges (Per Student)"], observed=True)["Average reading score"].mean()
spending_passing_math = school_spending_df.groupby(["Spending Ranges (Per Student)"], observed=True)["% Passing Math"].mean()
spending_passing_reading = school_spending_df.groupby(["Spending Ranges (Per Student)"], observed=True)["% Passing Reading"].mean()
overall_passing_spending = school_spending_df.groupby(["Spending Ranges (Per Student)"], observed=True)["% Overall Passing"].mean()



#Store as values
spending_math_scores_values = spending_math_scores
spending_reading_scores_values = spending_reading_scores
spending_passing_math_values = spending_passing_math
spending_passing_reading_values = spending_passing_reading
overall_passing_spending_values = overall_passing_spending

# Assemble into DataFrame
spending_summary = pd.DataFrame({
    "Spending Ranges (Per Student)": labels,
    "Average Math Score": spending_math_scores_values,
    "Average Reading Score": spending_reading_scores_values,
    "% Passing Math": spending_passing_math_values,
    "% Passing Reading": spending_passing_reading_values,
    "% Overall Passing": overall_passing_spending_values
})
# Display results
spending_summary






# Establish the bins.
size_bins = [0, 1000, 2000, 5000]
labels = ["Small (<1000)", "Medium (1000-2000)", "Large (2000-5000)"]



# Categorize the spending based on the bins
# Use `pd.cut` on the "Total Students" column of the `per_school_summary` DataFrame.

per_school_summary["School Size"] = pd.cut(per_school_summary["Total students"], bins=size_bins, labels=labels, include_lowest=True)
print(per_school_summary)



# Convert to DataFrame
per_school_summary_df = pd.DataFrame(per_school_summary)


# Calculate averages for the desired columns.
size_math_scores = per_school_summary_df.groupby(["School Size"], observed=True)["Average math score"].mean()
size_reading_scores = per_school_summary_df.groupby(["School Size"], observed=True)["Average reading score"].mean()
size_passing_math = per_school_summary_df.groupby(["School Size"], observed=True)["% Passing Math"].mean()
size_passing_reading = per_school_summary_df.groupby(["School Size"], observed=True)["% Passing Reading"].mean()
size_overall_passing = per_school_summary_df.groupby(["School Size"], observed=True)["% Overall Passing"].mean()

#Print out results from calculations
print("Average Math Score by School Size:")
print(size_math_scores)
print("\nAverage Reading Score by School Size:")
print(size_reading_scores)
print("\n% Passing Math by School Size:")
print(size_passing_math)
print("\n% Passing Reading by School Size:")
print(size_passing_reading)
print("\n% Overall Passing by School Size:")
print(size_overall_passing)


# Create a DataFrame called `size_summary` that breaks down school performance based on school size (small, medium, or large).
# Use the scores above to create a new DataFrame called `size_summary`
size_summary = pd.DataFrame({
    "Average math score": size_math_scores,
    "Average reading score": size_reading_scores,
    "% Passing math": size_passing_math,
    "% Passing reading": size_passing_reading,
    "% Overall Passing": size_overall_passing
})

# Display results
size_summary






# Groupby school type
per_school_summary_df = pd.DataFrame(per_school_summary)
scores_by_school_type = per_school_summary_df.groupby("School type")
# average_scores_by_type = scores_by_school_type.mean()


# Group the per_school_summary DataFrame by "School Type" and average the results.
average_math_score_by_type = average_scores_by_type["Average math score"].mean()
average_reading_score_by_type = average_scores_by_type["Average reading score"].mean()
average_percent_passing_math_by_type = average_scores_by_type["% Passing Math"].mean()
average_percent_passing_reading_by_type = average_scores_by_type["% Passing Reading"].mean()
average_percent_overall_passing_by_type = average_scores_by_type["% Overall Passing"].mean()

#Print out results from calculations
print("Average Math Score by School Type:", average_math_score_by_type)
print("\nAverage Reading Score by School Type:", average_reading_score_by_type)
print("\n% Passing Math by School Type:", average_percent_passing_math_by_type)
print("\n% Passing Reading by School Type:", average_percent_passing_reading_by_type)
print("\n% Overall Passing by School Type:", average_percent_overall_passing_by_type)


# Assemble the new data by type into a DataFrame called `type_summary`
type_summary_df = {
    "Average Math Score": average_math_score_by_type,
    "Average Reading Score": average_reading_score_by_type,
    "% Passing Math": average_percent_passing_math_by_type,
    "% Passing Reading": average_percent_passing_reading_by_type,
    "% Overall Passing": average_percent_overall_passing_by_type
}

# Display results
type_summary = pd.DataFrame(type_summary_df)
type_summary




